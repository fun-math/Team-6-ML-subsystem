{
  "nbformat": 4,
  "nbformat_minor": 0,
  "metadata": {
    "colab": {
      "name": "Model1a.ipynb",
      "provenance": [],
      "toc_visible": true,
      "include_colab_link": true
    },
    "kernelspec": {
      "name": "python3",
      "display_name": "Python 3"
    },
    "accelerator": "GPU"
  },
  "cells": [
    {
      "cell_type": "markdown",
      "metadata": {
        "id": "view-in-github",
        "colab_type": "text"
      },
      "source": [
        "<a href=\"https://colab.research.google.com/github/fun-math/Team-6-ML-subsystem/blob/master/Model1a.ipynb\" target=\"_parent\"><img src=\"https://colab.research.google.com/assets/colab-badge.svg\" alt=\"Open In Colab\"/></a>"
      ]
    },
    {
      "cell_type": "code",
      "metadata": {
        "id": "g5wANhvY8rv1",
        "colab_type": "code",
        "colab": {
          "base_uri": "https://localhost:8080/",
          "height": 118
        },
        "outputId": "1e128d1b-85aa-4482-e86b-b8e6b5be51d9"
      },
      "source": [
        "import tensorflow as tf\n",
        "from tensorflow.keras.layers import Dense, Conv2D, Flatten, Dropout, MaxPool2D, BatchNormalization\n",
        "from tensorflow.keras.preprocessing.image import ImageDataGenerator\n",
        "import numpy as np\n",
        "import glob\n",
        "import cv2\n",
        "import matplotlib.pyplot as plt\n",
        "from google.colab import drive\n",
        "import random\n",
        "import os\n",
        "\n",
        "drive.mount('/content/drive')"
      ],
      "execution_count": 1,
      "outputs": [
        {
          "output_type": "stream",
          "text": [
            "Go to this URL in a browser: https://accounts.google.com/o/oauth2/auth?client_id=947318989803-6bn6qk8qdgf4n4g3pfee6491hc0brc4i.apps.googleusercontent.com&redirect_uri=urn%3aietf%3awg%3aoauth%3a2.0%3aoob&scope=email%20https%3a%2f%2fwww.googleapis.com%2fauth%2fdocs.test%20https%3a%2f%2fwww.googleapis.com%2fauth%2fdrive%20https%3a%2f%2fwww.googleapis.com%2fauth%2fdrive.photos.readonly%20https%3a%2f%2fwww.googleapis.com%2fauth%2fpeopleapi.readonly&response_type=code\n",
            "\n",
            "Enter your authorization code:\n",
            "··········\n",
            "Mounted at /content/drive\n"
          ],
          "name": "stdout"
        }
      ]
    },
    {
      "cell_type": "code",
      "metadata": {
        "id": "Q8UW8iXY9ipz",
        "colab_type": "code",
        "colab": {}
      },
      "source": [
        "shapes=['torus','cone','cylinder','cuboid','sphere']\n",
        "colours=['Red','Grey','Brown','Green']\n",
        "h=48\n",
        "b=64"
      ],
      "execution_count": 2,
      "outputs": []
    },
    {
      "cell_type": "markdown",
      "metadata": {
        "id": "fA7S5GzDh0ne",
        "colab_type": "text"
      },
      "source": [
        "# Initial Data Processing"
      ]
    },
    {
      "cell_type": "code",
      "metadata": {
        "id": "QOsgOHsY-aXe",
        "colab_type": "code",
        "colab": {
          "base_uri": "https://localhost:8080/",
          "height": 34
        },
        "outputId": "1ebab5ff-029c-47b3-cf45-efb9dd8a1dd5"
      },
      "source": [
        "%cd '/content/drive/My Drive/Images'"
      ],
      "execution_count": null,
      "outputs": [
        {
          "output_type": "stream",
          "text": [
            "/content/drive/My Drive/Images\n"
          ],
          "name": "stdout"
        }
      ]
    },
    {
      "cell_type": "code",
      "metadata": {
        "id": "_xlZwF1Yzg3W",
        "colab_type": "code",
        "colab": {}
      },
      "source": [
        "def load(img_name):\n",
        "  img=cv2.imread(img_name,0)\n",
        "  img=cv2.resize(img,(960,540))\n",
        "  img_new=img[106:488,245:754]\n",
        "  img_new=cv2.resize(img_new,(b,h))\n",
        "  img_new=img_new.reshape(h,b,1)\n",
        "  return img_new\n"
      ],
      "execution_count": null,
      "outputs": []
    },
    {
      "cell_type": "code",
      "metadata": {
        "id": "kDSOfq220_Zg",
        "colab_type": "code",
        "colab": {}
      },
      "source": [
        "m_train=100000\n",
        "m_valid=20000"
      ],
      "execution_count": null,
      "outputs": []
    },
    {
      "cell_type": "code",
      "metadata": {
        "id": "AeWr_nZ-DazR",
        "colab_type": "code",
        "colab": {}
      },
      "source": [
        "train_data_gen=ImageDataGenerator(\n",
        "    height_shift_range=0.1,\n",
        "    width_shift_range=0.1,\n",
        "    rotation_range=50,                                                \n",
        "    zoom_range=[0.8,1.2],\n",
        "    horizontal_flip=True,\n",
        "    vertical_flip=True                       \n",
        ")\n",
        "\n",
        "valid_data_gen=ImageDataGenerator(\n",
        "    rotation_range=50,                                                \n",
        "    zoom_range=[0.6,1.1],\n",
        "    horizontal_flip=True,\n",
        "    vertical_flip=True                       \n",
        ")\n",
        "\n",
        "sphere_data_gen=ImageDataGenerator(\n",
        "    height_shift_range=0.2,\n",
        "    width_shift_range=0.2,\n",
        "    rotation_range=50,                                                \n",
        "    zoom_range=[0.8,1.2],\n",
        "    horizontal_flip=True,\n",
        "    vertical_flip=True                       \n",
        ")"
      ],
      "execution_count": null,
      "outputs": []
    },
    {
      "cell_type": "code",
      "metadata": {
        "id": "zN--WVf0D-Hz",
        "colab_type": "code",
        "colab": {}
      },
      "source": [
        "X_train=np.zeros([m_train,h,b,1])\n",
        "y_train=np.zeros([m_train,1])\n",
        "\n",
        "img_ind=0\n",
        "for shape in shapes:\n",
        "  if shape=='torus':\n",
        "    m=0\n",
        "    for colour in colours :\n",
        "      filenames=glob.glob('Torus_'+colour+'/*.png')\n",
        "      m+=len(filenames)\n",
        "\n",
        "    train_X=np.zeros([m,h,b,1])\n",
        "    train_y=np.zeros([m,1])\n",
        "\n",
        "    ind=0\n",
        "    for i in range(4):\n",
        "      filenames=glob.glob('Torus_'+colours[i]+'/*.png')\n",
        "      for image_name in filenames :\n",
        "        train_X[ind]=load(image_name)\n",
        "        train_y[ind]=0\n",
        "        ind+=1\n",
        "\n",
        "  else :\n",
        "    m=0\n",
        "    filenames=glob.glob(f'{shape}/*.png')\n",
        "    m=len(filenames)\n",
        "\n",
        "    train_X=np.zeros([m,h,b,1])\n",
        "    train_y=np.zeros([m,1])\n",
        "\n",
        "    ind=0\n",
        "    for image_name in filenames :\n",
        "       train_X[ind]=load(image_name)\n",
        "       train_y[ind]=1\n",
        "       ind+=1\n",
        "  \n",
        "\n",
        "  factor=int(m_train/(8*m))\n",
        "  if shape=='sphere':\n",
        "    for i in range(factor):                                                    \n",
        "      it=sphere_data_gen.flow(train_X,train_y,batch_size=m)                        \n",
        "      temp=next(it)\n",
        "      X_train[img_ind+i*m:img_ind+(i+1)*m,:,:,:]=temp[0]                                 \n",
        "      y_train[img_ind+i*m:img_ind+(i+1)*m,:]=temp[1]\n",
        "\n",
        "  else :\n",
        "    if shape=='torus':\n",
        "      factor=int(m_train/(2*m))\n",
        "    for i in range(factor):                                                    \n",
        "      it=train_data_gen.flow(train_X,train_y,batch_size=m)                        \n",
        "      temp=next(it)\n",
        "      X_train[img_ind+i*m:img_ind+(i+1)*m,:,:,:]=temp[0]                                 \n",
        "      y_train[img_ind+i*m:img_ind+(i+1)*m,:]=temp[1]\n",
        "  \n",
        "  \n",
        "  img_ind+=m*factor\n",
        "\n"
      ],
      "execution_count": null,
      "outputs": []
    },
    {
      "cell_type": "code",
      "metadata": {
        "id": "iY-XwEM0KFF7",
        "colab_type": "code",
        "colab": {}
      },
      "source": [
        "X_valid=np.zeros([m_valid,h,b,1])\n",
        "y_valid=np.zeros([m_valid,1])\n",
        "\n",
        "img_ind=0\n",
        "for shape in shapes:\n",
        "  if shape=='torus':\n",
        "    m=0\n",
        "    for colour in colours :\n",
        "      filenames=glob.glob('Torus_'+colour+'/*.png')\n",
        "      m+=len(filenames)\n",
        "\n",
        "    valid_X=np.zeros([m,h,b,1])\n",
        "    valid_y=np.zeros([m,1])\n",
        "\n",
        "    ind=0\n",
        "    for i in range(4):\n",
        "      filenames=glob.glob('Torus_'+colours[i]+'/*.png')\n",
        "      for image_name in filenames :\n",
        "        valid_X[ind]=load(image_name)\n",
        "        valid_y[ind]=0\n",
        "        ind+=1\n",
        "\n",
        "  else :\n",
        "    m=0\n",
        "    filenames=glob.glob(f'{shape}/*.png')\n",
        "    m=len(filenames)\n",
        "\n",
        "    valid_X=np.zeros([m,h,b,1])\n",
        "    valid_y=np.zeros([m,1])\n",
        "\n",
        "    ind=0\n",
        "    for image_name in filenames :\n",
        "       valid_X[ind]=load(image_name)\n",
        "       valid_y[ind]=1\n",
        "       ind+=1\n",
        "  \n",
        "\n",
        "  factor=int(m_valid/(8*m))\n",
        "  if shape=='sphere':\n",
        "    for i in range(factor):                                                    \n",
        "      it=sphere_data_gen.flow(valid_X,valid_y,batch_size=m)                        \n",
        "      temp=next(it)\n",
        "      X_valid[img_ind+i*m:img_ind+(i+1)*m,:,:,:]=temp[0]                                 \n",
        "      y_valid[img_ind+i*m:img_ind+(i+1)*m,:]=temp[1]\n",
        "\n",
        "  else :\n",
        "    if shape=='torus':\n",
        "      factor=int(m_valid/(2*m))\n",
        "    for i in range(factor):                                                    \n",
        "      it=valid_data_gen.flow(valid_X,valid_y,batch_size=m)                        \n",
        "      temp=next(it)\n",
        "      X_valid[img_ind+i*m:img_ind+(i+1)*m,:,:,:]=temp[0]                                 \n",
        "      y_valid[img_ind+i*m:img_ind+(i+1)*m,:]=temp[1]\n",
        "  \n",
        "  \n",
        "  img_ind+=m*factor\n",
        "\n"
      ],
      "execution_count": null,
      "outputs": []
    },
    {
      "cell_type": "code",
      "metadata": {
        "id": "ci2uO_k_M19U",
        "colab_type": "code",
        "colab": {}
      },
      "source": [
        "pos=np.arange(len(y_train))\n",
        "np.random.shuffle(pos)          \n",
        "X_train=X_train[pos]\n",
        "y_train=y_train[pos]\n",
        "\n",
        "pos=np.arange(len(y_valid))\n",
        "np.random.shuffle(pos)          \n",
        "X_valid=X_valid[pos]\n",
        "y_valid=y_valid[pos]"
      ],
      "execution_count": null,
      "outputs": []
    },
    {
      "cell_type": "code",
      "metadata": {
        "id": "XzJKOwk_M3UT",
        "colab_type": "code",
        "colab": {
          "base_uri": "https://localhost:8080/",
          "height": 34
        },
        "outputId": "a225a4b8-15a2-4587-f642-78279dde0316"
      },
      "source": [
        "%cd '/content/drive/My Drive/Project_Data/Task_1a'\n",
        "\n",
        "np.save('X_train',X_train)\n",
        "np.save('y_train',y_train)\n",
        "np.save('X_valid',X_valid)\n",
        "np.save('y_valid',y_valid)"
      ],
      "execution_count": null,
      "outputs": [
        {
          "output_type": "stream",
          "text": [
            "/content/drive/My Drive/Project_Data/Task_1a\n"
          ],
          "name": "stdout"
        }
      ]
    },
    {
      "cell_type": "markdown",
      "metadata": {
        "id": "klzEFtkgifQF",
        "colab_type": "text"
      },
      "source": [
        "# Load processed data"
      ]
    },
    {
      "cell_type": "code",
      "metadata": {
        "id": "W2cvF65eodwt",
        "colab_type": "code",
        "colab": {
          "base_uri": "https://localhost:8080/",
          "height": 33
        },
        "outputId": "0e2c5ea0-ed93-4392-ec13-823e21961157"
      },
      "source": [
        "%cd '/content/drive/My Drive/Project_Data/Task_1a'\n",
        "\n",
        "X_train=np.load('X_train.npy')\n",
        "y_train=np.load('y_train.npy')\n",
        "X_valid=np.load('X_valid.npy')\n",
        "y_valid=np.load('y_valid.npy')"
      ],
      "execution_count": 3,
      "outputs": [
        {
          "output_type": "stream",
          "text": [
            "/content/drive/.shortcut-targets-by-id/1deNr7eN1qDWU-XvAQGWtSZn6meE_WHre/Project_Data/Task_1a\n"
          ],
          "name": "stdout"
        }
      ]
    },
    {
      "cell_type": "markdown",
      "metadata": {
        "id": "jJtbbSXfimcU",
        "colab_type": "text"
      },
      "source": [
        "# Quick peek into some examples"
      ]
    },
    {
      "cell_type": "code",
      "metadata": {
        "id": "k5Bn1yxTOQpD",
        "colab_type": "code",
        "colab": {
          "base_uri": "https://localhost:8080/",
          "height": 1000
        },
        "outputId": "476eb8e8-6d67-4ea9-b0cb-1f6f171c5ee2"
      },
      "source": [
        "fig=plt.figure(figsize=(50,50))   \n",
        "for i in range(10):\n",
        "  startind=6000\n",
        "  sub=fig.add_subplot(2,5,i+1)\n",
        "  img=X_train[i+startind].copy()\n",
        "  img=img.reshape((h,b))\n",
        "  sub.imshow(img.astype(np.uint8),cmap='gray')\n",
        "  #temp=y_train[i]\n",
        "  plt.title(int(y_train[i+startind]),fontsize=20)        \n",
        "plt.show()"
      ],
      "execution_count": null,
      "outputs": [
        {
          "output_type": "display_data",
          "data": {
            "image/png": "[encoded data removed]",
            "text/plain": [
              "<Figure size 3600x3600 with 10 Axes>"
            ]
          },
          "metadata": {
            "tags": [],
            "needs_background": "light"
          }
        }
      ]
    },
    {
      "cell_type": "markdown",
      "metadata": {
        "id": "oUPWLKPzjD2l",
        "colab_type": "text"
      },
      "source": [
        "# Building and training the model"
      ]
    },
    {
      "cell_type": "code",
      "metadata": {
        "id": "KdlwzrCzohJY",
        "colab_type": "code",
        "colab": {}
      },
      "source": [
        "X_train=X_train/255.0\n",
        "X_valid=X_valid/255.0"
      ],
      "execution_count": 4,
      "outputs": []
    },
    {
      "cell_type": "code",
      "metadata": {
        "id": "vHuJ9uv8ovmJ",
        "colab_type": "code",
        "colab": {
          "base_uri": "https://localhost:8080/",
          "height": 602
        },
        "outputId": "5d9922ea-655e-48fd-f0b0-08a9fd8a9ae9"
      },
      "source": [
        "inputs=tf.keras.Input(shape=(h,b,1))\n",
        "\n",
        "x=Conv2D(16,3,1,padding='same',activation='relu')(inputs)\n",
        "x=MaxPool2D(2,2,padding='valid')(x)\n",
        "\n",
        "x=Conv2D(32,3,1,padding='same',activation='relu')(x)\n",
        "x=Conv2D(32,3,1,padding='same',activation='relu')(x)\n",
        "x=BatchNormalization()(x)\n",
        "x=MaxPool2D(2,2,padding='valid')(x)\n",
        "\n",
        "x=Conv2D(64,3,1,padding='same',activation='relu')(x)\n",
        "x=Conv2D(64,3,1,padding='same',activation='relu')(x)\n",
        "x=MaxPool2D(2,2,padding='valid')(x)\n",
        "\n",
        "x=Conv2D(128,3,1,padding='same',activation='relu')(x)\n",
        "x=MaxPool2D(2,2,padding='valid')(x)\n",
        "\n",
        "x=Flatten()(x)\n",
        "output=Dense(2,activation='softmax')(x)\n",
        "\n",
        "model=tf.keras.Model(inputs,output,name='model1a')\n",
        "\n",
        "model.compile(optimizer='adagrad',loss='sparse_categorical_crossentropy',metrics=['accuracy'])\n",
        "\n",
        "model.summary()"
      ],
      "execution_count": 5,
      "outputs": [
        {
          "output_type": "stream",
          "text": [
            "Model: \"model1a\"\n",
            "_________________________________________________________________\n",
            "Layer (type)                 Output Shape              Param #   \n",
            "=================================================================\n",
            "input_1 (InputLayer)         [(None, 48, 64, 1)]       0         \n",
            "_________________________________________________________________\n",
            "conv2d (Conv2D)              (None, 48, 64, 16)        160       \n",
            "_________________________________________________________________\n",
            "max_pooling2d (MaxPooling2D) (None, 24, 32, 16)        0         \n",
            "_________________________________________________________________\n",
            "conv2d_1 (Conv2D)            (None, 24, 32, 32)        4640      \n",
            "_________________________________________________________________\n",
            "conv2d_2 (Conv2D)            (None, 24, 32, 32)        9248      \n",
            "_________________________________________________________________\n",
            "batch_normalization (BatchNo (None, 24, 32, 32)        128       \n",
            "_________________________________________________________________\n",
            "max_pooling2d_1 (MaxPooling2 (None, 12, 16, 32)        0         \n",
            "_________________________________________________________________\n",
            "conv2d_3 (Conv2D)            (None, 12, 16, 64)        18496     \n",
            "_________________________________________________________________\n",
            "conv2d_4 (Conv2D)            (None, 12, 16, 64)        36928     \n",
            "_________________________________________________________________\n",
            "max_pooling2d_2 (MaxPooling2 (None, 6, 8, 64)          0         \n",
            "_________________________________________________________________\n",
            "conv2d_5 (Conv2D)            (None, 6, 8, 128)         73856     \n",
            "_________________________________________________________________\n",
            "max_pooling2d_3 (MaxPooling2 (None, 3, 4, 128)         0         \n",
            "_________________________________________________________________\n",
            "flatten (Flatten)            (None, 1536)              0         \n",
            "_________________________________________________________________\n",
            "dense (Dense)                (None, 2)                 3074      \n",
            "=================================================================\n",
            "Total params: 146,530\n",
            "Trainable params: 146,466\n",
            "Non-trainable params: 64\n",
            "_________________________________________________________________\n"
          ],
          "name": "stdout"
        }
      ]
    },
    {
      "cell_type": "code",
      "metadata": {
        "id": "BB1svgtBozGv",
        "colab_type": "code",
        "colab": {
          "base_uri": "https://localhost:8080/",
          "height": 667
        },
        "outputId": "d108e06c-56bb-421e-9646-20b86a631709"
      },
      "source": [
        "epochs=20\n",
        "history=model.fit(X_train,\n",
        "                  y_train,\n",
        "                  batch_size=64,\n",
        "                  epochs=epochs,\n",
        "                  validation_data=(X_valid,y_valid))"
      ],
      "execution_count": 6,
      "outputs": [
        {
          "output_type": "stream",
          "text": [
            "Epoch 1/20\n",
            "1563/1563 [==============================] - 12s 8ms/step - loss: 0.1544 - accuracy: 0.9503 - val_loss: 0.1289 - val_accuracy: 0.9536\n",
            "Epoch 2/20\n",
            "1563/1563 [==============================] - 12s 7ms/step - loss: 0.0669 - accuracy: 0.9735 - val_loss: 0.1154 - val_accuracy: 0.9624\n",
            "Epoch 3/20\n",
            "1563/1563 [==============================] - 11s 7ms/step - loss: 0.0452 - accuracy: 0.9834 - val_loss: 0.0724 - val_accuracy: 0.9757\n",
            "Epoch 4/20\n",
            "1563/1563 [==============================] - 11s 7ms/step - loss: 0.0321 - accuracy: 0.9891 - val_loss: 0.0668 - val_accuracy: 0.9786\n",
            "Epoch 5/20\n",
            "1563/1563 [==============================] - 12s 7ms/step - loss: 0.0246 - accuracy: 0.9920 - val_loss: 0.0498 - val_accuracy: 0.9840\n",
            "Epoch 6/20\n",
            "1563/1563 [==============================] - 12s 7ms/step - loss: 0.0195 - accuracy: 0.9938 - val_loss: 0.0647 - val_accuracy: 0.9817\n",
            "Epoch 7/20\n",
            "1563/1563 [==============================] - 12s 7ms/step - loss: 0.0165 - accuracy: 0.9949 - val_loss: 0.0470 - val_accuracy: 0.9855\n",
            "Epoch 8/20\n",
            "1563/1563 [==============================] - 12s 7ms/step - loss: 0.0140 - accuracy: 0.9957 - val_loss: 0.0379 - val_accuracy: 0.9884\n",
            "Epoch 9/20\n",
            "1563/1563 [==============================] - 12s 8ms/step - loss: 0.0123 - accuracy: 0.9962 - val_loss: 0.0524 - val_accuracy: 0.9855\n",
            "Epoch 10/20\n",
            "1563/1563 [==============================] - 12s 7ms/step - loss: 0.0110 - accuracy: 0.9968 - val_loss: 0.0578 - val_accuracy: 0.9848\n",
            "Epoch 11/20\n",
            "1563/1563 [==============================] - 12s 7ms/step - loss: 0.0098 - accuracy: 0.9971 - val_loss: 0.0667 - val_accuracy: 0.9834\n",
            "Epoch 12/20\n",
            "1563/1563 [==============================] - 12s 7ms/step - loss: 0.0091 - accuracy: 0.9972 - val_loss: 0.0459 - val_accuracy: 0.9873\n",
            "Epoch 13/20\n",
            "1563/1563 [==============================] - 12s 7ms/step - loss: 0.0082 - accuracy: 0.9976 - val_loss: 0.0525 - val_accuracy: 0.9865\n",
            "Epoch 14/20\n",
            "1563/1563 [==============================] - 12s 7ms/step - loss: 0.0076 - accuracy: 0.9979 - val_loss: 0.0457 - val_accuracy: 0.9880\n",
            "Epoch 15/20\n",
            "1563/1563 [==============================] - 12s 7ms/step - loss: 0.0071 - accuracy: 0.9980 - val_loss: 0.0448 - val_accuracy: 0.9884\n",
            "Epoch 16/20\n",
            "1563/1563 [==============================] - 12s 7ms/step - loss: 0.0065 - accuracy: 0.9982 - val_loss: 0.0638 - val_accuracy: 0.9854\n",
            "Epoch 17/20\n",
            "1563/1563 [==============================] - 12s 7ms/step - loss: 0.0063 - accuracy: 0.9981 - val_loss: 0.0510 - val_accuracy: 0.9875\n",
            "Epoch 18/20\n",
            "1563/1563 [==============================] - 12s 7ms/step - loss: 0.0057 - accuracy: 0.9984 - val_loss: 0.0415 - val_accuracy: 0.9893\n",
            "Epoch 19/20\n",
            "1563/1563 [==============================] - 12s 7ms/step - loss: 0.0055 - accuracy: 0.9984 - val_loss: 0.0557 - val_accuracy: 0.9867\n",
            "Epoch 20/20\n",
            "1563/1563 [==============================] - 12s 7ms/step - loss: 0.0051 - accuracy: 0.9985 - val_loss: 0.0255 - val_accuracy: 0.9927\n"
          ],
          "name": "stdout"
        }
      ]
    },
    {
      "cell_type": "code",
      "metadata": {
        "id": "LAK5PZRro3ba",
        "colab_type": "code",
        "colab": {
          "base_uri": "https://localhost:8080/",
          "height": 298
        },
        "outputId": "50a52b83-75bd-4888-b356-c2d451d721d7"
      },
      "source": [
        "acc=history.history['accuracy']\n",
        "val_acc=history.history['val_accuracy']\n",
        "\n",
        "epochs_range=range(epochs)\n",
        "plt.plot(epochs_range, acc, label='Training Accuracy',color='red')\n",
        "plt.plot(epochs_range, val_acc, label='Validation Accuracy',color='green')\n",
        "plt.legend(loc='lower right')\n",
        "plt.title('Training and Validation Accuracy')"
      ],
      "execution_count": null,
      "outputs": [
        {
          "output_type": "execute_result",
          "data": {
            "text/plain": [
              "Text(0.5, 1.0, 'Training and Validation Accuracy')"
            ]
          },
          "metadata": {
            "tags": []
          },
          "execution_count": 16
        },
        {
          "output_type": "display_data",
          "data": {
            "image/png": "[encoded data removed]",
            "text/plain": [
              "<Figure size 432x288 with 1 Axes>"
            ]
          },
          "metadata": {
            "tags": [],
            "needs_background": "light"
          }
        }
      ]
    },
    {
      "cell_type": "code",
      "metadata": {
        "id": "VTPKNNVC36XC",
        "colab_type": "code",
        "colab": {
          "base_uri": "https://localhost:8080/",
          "height": 50
        },
        "outputId": "4cc7ab8e-bd89-43e6-983d-42bea3246957"
      },
      "source": [
        "model.evaluate(X_valid,y_valid)"
      ],
      "execution_count": 7,
      "outputs": [
        {
          "output_type": "stream",
          "text": [
            "625/625 [==============================] - 2s 3ms/step - loss: 0.0255 - accuracy: 0.9927\n"
          ],
          "name": "stdout"
        },
        {
          "output_type": "execute_result",
          "data": {
            "text/plain": [
              "[0.025464346632361412, 0.9927499890327454]"
            ]
          },
          "metadata": {
            "tags": []
          },
          "execution_count": 7
        }
      ]
    },
    {
      "cell_type": "code",
      "metadata": {
        "id": "PJxaqSYFrp_4",
        "colab_type": "code",
        "colab": {
          "base_uri": "https://localhost:8080/",
          "height": 66
        },
        "outputId": "67cc27dc-eea2-4ff8-f13a-3893bf0c394d"
      },
      "source": [
        "predictions=model.predict(X_valid).astype(float)\n",
        "tf.math.confusion_matrix(y_valid.reshape(len(y_valid),),np.argmax(predictions,axis=1))"
      ],
      "execution_count": 8,
      "outputs": [
        {
          "output_type": "execute_result",
          "data": {
            "text/plain": [
              "<tf.Tensor: shape=(2, 2), dtype=int32, numpy=\n",
              "array([[9873,  127],\n",
              "       [  18, 9982]], dtype=int32)>"
            ]
          },
          "metadata": {
            "tags": []
          },
          "execution_count": 8
        }
      ]
    },
    {
      "cell_type": "code",
      "metadata": {
        "id": "hPYFbns2418l",
        "colab_type": "code",
        "colab": {
          "base_uri": "https://localhost:8080/",
          "height": 33
        },
        "outputId": "9a4cc9a8-4cfd-4b3b-8de0-48e6dc3d67ee"
      },
      "source": [
        "%cd '/content/drive/My Drive/Project_Data/Task_1a'\n",
        "model.save(\"model1a_9927.h5\")"
      ],
      "execution_count": 9,
      "outputs": [
        {
          "output_type": "stream",
          "text": [
            "/content/drive/.shortcut-targets-by-id/1deNr7eN1qDWU-XvAQGWtSZn6meE_WHre/Project_Data/Task_1a\n"
          ],
          "name": "stdout"
        }
      ]
    },
    {
      "cell_type": "code",
      "metadata": {
        "id": "9xyF9DSa5f5s",
        "colab_type": "code",
        "colab": {}
      },
      "source": [
        ""
      ],
      "execution_count": null,
      "outputs": []
    }
  ]
}